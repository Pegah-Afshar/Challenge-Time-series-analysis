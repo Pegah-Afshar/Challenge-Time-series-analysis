{
  "nbformat": 4,
  "nbformat_minor": 0,
  "metadata": {
    "colab": {
      "name": "Challenge: Time series analysis.ipynb",
      "provenance": []
    },
    "kernelspec": {
      "name": "python3",
      "display_name": "Python 3"
    },
    "language_info": {
      "name": "python"
    }
  },
  "cells": [
    {
      "cell_type": "code",
      "metadata": {
        "id": "y1c1mHZdWRFw"
      },
      "source": [
        "# import libraries \n",
        "import pandas as pd \n",
        "import numpy as np \n",
        "import matplotlib.pyplot as plt \n",
        "import random\n",
        "import seaborn as sns\n"
      ],
      "execution_count": 121,
      "outputs": []
    },
    {
      "cell_type": "code",
      "metadata": {
        "colab": {
          "base_uri": "https://localhost:8080/",
          "height": 320
        },
        "id": "-X-lrCTnWoVi",
        "outputId": "053d203a-8046-44ad-c787-092abde09362"
      },
      "source": [
        "avocado_df = pd.read_csv('drive/MyDrive/avocado.csv')\n",
        "avocado_df.head()"
      ],
      "execution_count": 122,
      "outputs": [
        {
          "output_type": "execute_result",
          "data": {
            "text/html": [
              "<div>\n",
              "<style scoped>\n",
              "    .dataframe tbody tr th:only-of-type {\n",
              "        vertical-align: middle;\n",
              "    }\n",
              "\n",
              "    .dataframe tbody tr th {\n",
              "        vertical-align: top;\n",
              "    }\n",
              "\n",
              "    .dataframe thead th {\n",
              "        text-align: right;\n",
              "    }\n",
              "</style>\n",
              "<table border=\"1\" class=\"dataframe\">\n",
              "  <thead>\n",
              "    <tr style=\"text-align: right;\">\n",
              "      <th></th>\n",
              "      <th>Unnamed: 0</th>\n",
              "      <th>Date</th>\n",
              "      <th>AveragePrice</th>\n",
              "      <th>Total Volume</th>\n",
              "      <th>4046</th>\n",
              "      <th>4225</th>\n",
              "      <th>4770</th>\n",
              "      <th>Total Bags</th>\n",
              "      <th>Small Bags</th>\n",
              "      <th>Large Bags</th>\n",
              "      <th>XLarge Bags</th>\n",
              "      <th>type</th>\n",
              "      <th>year</th>\n",
              "      <th>region</th>\n",
              "    </tr>\n",
              "  </thead>\n",
              "  <tbody>\n",
              "    <tr>\n",
              "      <th>0</th>\n",
              "      <td>0</td>\n",
              "      <td>2015-12-27</td>\n",
              "      <td>1.33</td>\n",
              "      <td>64236.62</td>\n",
              "      <td>1036.74</td>\n",
              "      <td>54454.85</td>\n",
              "      <td>48.16</td>\n",
              "      <td>8696.87</td>\n",
              "      <td>8603.62</td>\n",
              "      <td>93.25</td>\n",
              "      <td>0.0</td>\n",
              "      <td>conventional</td>\n",
              "      <td>2015</td>\n",
              "      <td>Albany</td>\n",
              "    </tr>\n",
              "    <tr>\n",
              "      <th>1</th>\n",
              "      <td>1</td>\n",
              "      <td>2015-12-20</td>\n",
              "      <td>1.35</td>\n",
              "      <td>54876.98</td>\n",
              "      <td>674.28</td>\n",
              "      <td>44638.81</td>\n",
              "      <td>58.33</td>\n",
              "      <td>9505.56</td>\n",
              "      <td>9408.07</td>\n",
              "      <td>97.49</td>\n",
              "      <td>0.0</td>\n",
              "      <td>conventional</td>\n",
              "      <td>2015</td>\n",
              "      <td>Albany</td>\n",
              "    </tr>\n",
              "    <tr>\n",
              "      <th>2</th>\n",
              "      <td>2</td>\n",
              "      <td>2015-12-13</td>\n",
              "      <td>0.93</td>\n",
              "      <td>118220.22</td>\n",
              "      <td>794.70</td>\n",
              "      <td>109149.67</td>\n",
              "      <td>130.50</td>\n",
              "      <td>8145.35</td>\n",
              "      <td>8042.21</td>\n",
              "      <td>103.14</td>\n",
              "      <td>0.0</td>\n",
              "      <td>conventional</td>\n",
              "      <td>2015</td>\n",
              "      <td>Albany</td>\n",
              "    </tr>\n",
              "    <tr>\n",
              "      <th>3</th>\n",
              "      <td>3</td>\n",
              "      <td>2015-12-06</td>\n",
              "      <td>1.08</td>\n",
              "      <td>78992.15</td>\n",
              "      <td>1132.00</td>\n",
              "      <td>71976.41</td>\n",
              "      <td>72.58</td>\n",
              "      <td>5811.16</td>\n",
              "      <td>5677.40</td>\n",
              "      <td>133.76</td>\n",
              "      <td>0.0</td>\n",
              "      <td>conventional</td>\n",
              "      <td>2015</td>\n",
              "      <td>Albany</td>\n",
              "    </tr>\n",
              "    <tr>\n",
              "      <th>4</th>\n",
              "      <td>4</td>\n",
              "      <td>2015-11-29</td>\n",
              "      <td>1.28</td>\n",
              "      <td>51039.60</td>\n",
              "      <td>941.48</td>\n",
              "      <td>43838.39</td>\n",
              "      <td>75.78</td>\n",
              "      <td>6183.95</td>\n",
              "      <td>5986.26</td>\n",
              "      <td>197.69</td>\n",
              "      <td>0.0</td>\n",
              "      <td>conventional</td>\n",
              "      <td>2015</td>\n",
              "      <td>Albany</td>\n",
              "    </tr>\n",
              "  </tbody>\n",
              "</table>\n",
              "</div>"
            ],
            "text/plain": [
              "   Unnamed: 0        Date  AveragePrice  ...          type  year  region\n",
              "0           0  2015-12-27          1.33  ...  conventional  2015  Albany\n",
              "1           1  2015-12-20          1.35  ...  conventional  2015  Albany\n",
              "2           2  2015-12-13          0.93  ...  conventional  2015  Albany\n",
              "3           3  2015-12-06          1.08  ...  conventional  2015  Albany\n",
              "4           4  2015-11-29          1.28  ...  conventional  2015  Albany\n",
              "\n",
              "[5 rows x 14 columns]"
            ]
          },
          "metadata": {},
          "execution_count": 122
        }
      ]
    },
    {
      "cell_type": "code",
      "metadata": {
        "colab": {
          "base_uri": "https://localhost:8080/"
        },
        "id": "8dNrOVB4cDgr",
        "outputId": "6dfd45ae-8f78-4b1e-dad0-ca9834e03bf3"
      },
      "source": [
        "avocado_df.region.value_counts()"
      ],
      "execution_count": 123,
      "outputs": [
        {
          "output_type": "execute_result",
          "data": {
            "text/plain": [
              "StLouis                338\n",
              "Atlanta                338\n",
              "SouthCentral           338\n",
              "Orlando                338\n",
              "Chicago                338\n",
              "Indianapolis           338\n",
              "Tampa                  338\n",
              "Southeast              338\n",
              "Charlotte              338\n",
              "GrandRapids            338\n",
              "MiamiFtLauderdale      338\n",
              "California             338\n",
              "LasVegas               338\n",
              "Boston                 338\n",
              "Albany                 338\n",
              "Syracuse               338\n",
              "RaleighGreensboro      338\n",
              "Boise                  338\n",
              "Houston                338\n",
              "NewYork                338\n",
              "Detroit                338\n",
              "Pittsburgh             338\n",
              "LosAngeles             338\n",
              "Portland               338\n",
              "Spokane                338\n",
              "BuffaloRochester       338\n",
              "Seattle                338\n",
              "Plains                 338\n",
              "Philadelphia           338\n",
              "Nashville              338\n",
              "Northeast              338\n",
              "TotalUS                338\n",
              "CincinnatiDayton       338\n",
              "PhoenixTucson          338\n",
              "SanDiego               338\n",
              "SouthCarolina          338\n",
              "NorthernNewEngland     338\n",
              "Sacramento             338\n",
              "NewOrleansMobile       338\n",
              "Columbus               338\n",
              "DallasFtWorth          338\n",
              "BaltimoreWashington    338\n",
              "West                   338\n",
              "Midsouth               338\n",
              "GreatLakes             338\n",
              "SanFrancisco           338\n",
              "RichmondNorfolk        338\n",
              "Denver                 338\n",
              "HarrisburgScranton     338\n",
              "HartfordSpringfield    338\n",
              "Louisville             338\n",
              "Roanoke                338\n",
              "Jacksonville           338\n",
              "WestTexNewMexico       335\n",
              "Name: region, dtype: int64"
            ]
          },
          "metadata": {},
          "execution_count": 123
        }
      ]
    },
    {
      "cell_type": "code",
      "metadata": {
        "id": "pMJjZugHcuki",
        "colab": {
          "base_uri": "https://localhost:8080/"
        },
        "outputId": "3fd9b97c-dbe7-4c89-f321-cb58b3004334"
      },
      "source": [
        "avocado_df['XLarge Bags'].value_counts()"
      ],
      "execution_count": 124,
      "outputs": [
        {
          "output_type": "execute_result",
          "data": {
            "text/plain": [
              "0.00        12048\n",
              "3.33           29\n",
              "6.67           16\n",
              "1.11           15\n",
              "5.00           12\n",
              "            ...  \n",
              "36.39           1\n",
              "29342.75        1\n",
              "724.83          1\n",
              "7415.42         1\n",
              "118.86          1\n",
              "Name: XLarge Bags, Length: 5588, dtype: int64"
            ]
          },
          "metadata": {},
          "execution_count": 124
        }
      ]
    },
    {
      "cell_type": "code",
      "metadata": {
        "colab": {
          "base_uri": "https://localhost:8080/"
        },
        "id": "xkFGGSVncqWi",
        "outputId": "9b838191-f01f-4636-ac19-bec09d16dcbe"
      },
      "source": [
        "avocado_df.columns"
      ],
      "execution_count": 125,
      "outputs": [
        {
          "output_type": "execute_result",
          "data": {
            "text/plain": [
              "Index(['Unnamed: 0', 'Date', 'AveragePrice', 'Total Volume', '4046', '4225',\n",
              "       '4770', 'Total Bags', 'Small Bags', 'Large Bags', 'XLarge Bags', 'type',\n",
              "       'year', 'region'],\n",
              "      dtype='object')"
            ]
          },
          "metadata": {},
          "execution_count": 125
        }
      ]
    },
    {
      "cell_type": "code",
      "metadata": {
        "id": "mcbOiQqrckC9"
      },
      "source": [
        "df=avocado_df[['Date', 'AveragePrice','Total Volume']]"
      ],
      "execution_count": 126,
      "outputs": []
    },
    {
      "cell_type": "code",
      "metadata": {
        "colab": {
          "base_uri": "https://localhost:8080/"
        },
        "id": "DwSI4bwPu9Ys",
        "outputId": "8a528bf2-b0b1-405e-d8ea-2e4117290934"
      },
      "source": [
        "df['sale']=df['AveragePrice']*df['Total Volume']"
      ],
      "execution_count": 127,
      "outputs": [
        {
          "output_type": "stream",
          "name": "stderr",
          "text": [
            "/usr/local/lib/python3.7/dist-packages/ipykernel_launcher.py:1: SettingWithCopyWarning: \n",
            "A value is trying to be set on a copy of a slice from a DataFrame.\n",
            "Try using .loc[row_indexer,col_indexer] = value instead\n",
            "\n",
            "See the caveats in the documentation: https://pandas.pydata.org/pandas-docs/stable/user_guide/indexing.html#returning-a-view-versus-a-copy\n",
            "  \"\"\"Entry point for launching an IPython kernel.\n"
          ]
        }
      ]
    },
    {
      "cell_type": "code",
      "metadata": {
        "colab": {
          "base_uri": "https://localhost:8080/",
          "height": 433
        },
        "id": "NV_UIEqmdEYi",
        "outputId": "365850d9-bbb2-49ae-a988-ee9f57d733b4"
      },
      "source": [
        "df"
      ],
      "execution_count": 129,
      "outputs": [
        {
          "output_type": "execute_result",
          "data": {
            "text/html": [
              "<div>\n",
              "<style scoped>\n",
              "    .dataframe tbody tr th:only-of-type {\n",
              "        vertical-align: middle;\n",
              "    }\n",
              "\n",
              "    .dataframe tbody tr th {\n",
              "        vertical-align: top;\n",
              "    }\n",
              "\n",
              "    .dataframe thead th {\n",
              "        text-align: right;\n",
              "    }\n",
              "</style>\n",
              "<table border=\"1\" class=\"dataframe\">\n",
              "  <thead>\n",
              "    <tr style=\"text-align: right;\">\n",
              "      <th></th>\n",
              "      <th>Date</th>\n",
              "      <th>AveragePrice</th>\n",
              "      <th>Total Volume</th>\n",
              "      <th>sale</th>\n",
              "    </tr>\n",
              "  </thead>\n",
              "  <tbody>\n",
              "    <tr>\n",
              "      <th>0</th>\n",
              "      <td>2015-12-27</td>\n",
              "      <td>1.33</td>\n",
              "      <td>64236.62</td>\n",
              "      <td>85434.7046</td>\n",
              "    </tr>\n",
              "    <tr>\n",
              "      <th>1</th>\n",
              "      <td>2015-12-20</td>\n",
              "      <td>1.35</td>\n",
              "      <td>54876.98</td>\n",
              "      <td>74083.9230</td>\n",
              "    </tr>\n",
              "    <tr>\n",
              "      <th>2</th>\n",
              "      <td>2015-12-13</td>\n",
              "      <td>0.93</td>\n",
              "      <td>118220.22</td>\n",
              "      <td>109944.8046</td>\n",
              "    </tr>\n",
              "    <tr>\n",
              "      <th>3</th>\n",
              "      <td>2015-12-06</td>\n",
              "      <td>1.08</td>\n",
              "      <td>78992.15</td>\n",
              "      <td>85311.5220</td>\n",
              "    </tr>\n",
              "    <tr>\n",
              "      <th>4</th>\n",
              "      <td>2015-11-29</td>\n",
              "      <td>1.28</td>\n",
              "      <td>51039.60</td>\n",
              "      <td>65330.6880</td>\n",
              "    </tr>\n",
              "    <tr>\n",
              "      <th>...</th>\n",
              "      <td>...</td>\n",
              "      <td>...</td>\n",
              "      <td>...</td>\n",
              "      <td>...</td>\n",
              "    </tr>\n",
              "    <tr>\n",
              "      <th>18244</th>\n",
              "      <td>2018-02-04</td>\n",
              "      <td>1.63</td>\n",
              "      <td>17074.83</td>\n",
              "      <td>27831.9729</td>\n",
              "    </tr>\n",
              "    <tr>\n",
              "      <th>18245</th>\n",
              "      <td>2018-01-28</td>\n",
              "      <td>1.71</td>\n",
              "      <td>13888.04</td>\n",
              "      <td>23748.5484</td>\n",
              "    </tr>\n",
              "    <tr>\n",
              "      <th>18246</th>\n",
              "      <td>2018-01-21</td>\n",
              "      <td>1.87</td>\n",
              "      <td>13766.76</td>\n",
              "      <td>25743.8412</td>\n",
              "    </tr>\n",
              "    <tr>\n",
              "      <th>18247</th>\n",
              "      <td>2018-01-14</td>\n",
              "      <td>1.93</td>\n",
              "      <td>16205.22</td>\n",
              "      <td>31276.0746</td>\n",
              "    </tr>\n",
              "    <tr>\n",
              "      <th>18248</th>\n",
              "      <td>2018-01-07</td>\n",
              "      <td>1.62</td>\n",
              "      <td>17489.58</td>\n",
              "      <td>28333.1196</td>\n",
              "    </tr>\n",
              "  </tbody>\n",
              "</table>\n",
              "<p>18249 rows × 4 columns</p>\n",
              "</div>"
            ],
            "text/plain": [
              "             Date  AveragePrice  Total Volume         sale\n",
              "0      2015-12-27          1.33      64236.62   85434.7046\n",
              "1      2015-12-20          1.35      54876.98   74083.9230\n",
              "2      2015-12-13          0.93     118220.22  109944.8046\n",
              "3      2015-12-06          1.08      78992.15   85311.5220\n",
              "4      2015-11-29          1.28      51039.60   65330.6880\n",
              "...           ...           ...           ...          ...\n",
              "18244  2018-02-04          1.63      17074.83   27831.9729\n",
              "18245  2018-01-28          1.71      13888.04   23748.5484\n",
              "18246  2018-01-21          1.87      13766.76   25743.8412\n",
              "18247  2018-01-14          1.93      16205.22   31276.0746\n",
              "18248  2018-01-07          1.62      17489.58   28333.1196\n",
              "\n",
              "[18249 rows x 4 columns]"
            ]
          },
          "metadata": {},
          "execution_count": 129
        }
      ]
    },
    {
      "cell_type": "code",
      "metadata": {
        "id": "WAOqJDOcW6TJ"
      },
      "source": [
        "df=df.sort_values('Date')"
      ],
      "execution_count": 130,
      "outputs": []
    },
    {
      "cell_type": "code",
      "metadata": {
        "colab": {
          "base_uri": "https://localhost:8080/"
        },
        "id": "cGmoNlx9XfGH",
        "outputId": "96a00e46-cf40-4f1f-a936-49f7e7eb18e3"
      },
      "source": [
        "df.isnull().any()"
      ],
      "execution_count": 101,
      "outputs": [
        {
          "output_type": "execute_result",
          "data": {
            "text/plain": [
              "Date            False\n",
              "AveragePrice    False\n",
              "Total Volume    False\n",
              "dtype: bool"
            ]
          },
          "metadata": {},
          "execution_count": 101
        }
      ]
    },
    {
      "cell_type": "code",
      "metadata": {
        "id": "9z0RDgXyaLM3"
      },
      "source": [
        "df.Date=pd.to_datetime(df.Date,format='%Y/%m/%d')"
      ],
      "execution_count": 134,
      "outputs": []
    },
    {
      "cell_type": "code",
      "metadata": {
        "colab": {
          "base_uri": "https://localhost:8080/",
          "height": 418
        },
        "id": "ox9fPhD5Xmai",
        "outputId": "e2835ac2-7bd1-4f67-cfb6-32594488982b"
      },
      "source": [
        "plt.figure(figsize=(20,6))\n",
        "plt.plot(df['Date'], df['sale'])"
      ],
      "execution_count": 131,
      "outputs": [
        {
          "output_type": "execute_result",
          "data": {
            "text/plain": [
              "[<matplotlib.lines.Line2D at 0x7f822e5f6b50>]"
            ]
          },
          "metadata": {},
          "execution_count": 131
        },
        {
          "output_type": "display_data",
          "data": {
            "image/png": "[encoded data removed]",
            "text/plain": [
              "<Figure size 1440x432 with 1 Axes>"
            ]
          },
          "metadata": {
            "needs_background": "light"
          }
        }
      ]
    },
    {
      "cell_type": "code",
      "metadata": {
        "id": "Hpb22SxYvj_c"
      },
      "source": [
        "df.index=pd.DatetimeIndex(df.Date)"
      ],
      "execution_count": 137,
      "outputs": []
    },
    {
      "cell_type": "code",
      "metadata": {
        "id": "iKVbdECrwKcY"
      },
      "source": [
        "df_sale=df[['Date','sale']]"
      ],
      "execution_count": 141,
      "outputs": []
    },
    {
      "cell_type": "code",
      "metadata": {
        "colab": {
          "base_uri": "https://localhost:8080/",
          "height": 399
        },
        "id": "v-PluHgrg8U9",
        "outputId": "12ad5032-ab94-4872-bb3b-6bfa16703af4"
      },
      "source": [
        "plt.figure(figsize=(20,6))\n",
        "plt.plot(df_sale.resample('M').size())\n",
        "plt.ylabel('sale')"
      ],
      "execution_count": 143,
      "outputs": [
        {
          "output_type": "execute_result",
          "data": {
            "text/plain": [
              "Text(0, 0.5, 'sale')"
            ]
          },
          "metadata": {},
          "execution_count": 143
        },
        {
          "output_type": "display_data",
          "data": {
            "image/png": "[encoded data removed]",
            "text/plain": [
              "<Figure size 1440x432 with 1 Axes>"
            ]
          },
          "metadata": {
            "needs_background": "light"
          }
        }
      ]
    },
    {
      "cell_type": "code",
      "metadata": {
        "colab": {
          "base_uri": "https://localhost:8080/",
          "height": 330
        },
        "id": "pbbF6W1CX0d3",
        "outputId": "1191051d-0840-47ce-eb56-5279cbb2033b"
      },
      "source": [
        "df['diff_1'] = df.sale - df.sale.shift()\n",
        "plt.figure(figsize=(20,6))\n",
        "df.plot(y='diff_1')\n",
        "plt.title(' Time Series')\n",
        "plt.show()"
      ],
      "execution_count": 144,
      "outputs": [
        {
          "output_type": "display_data",
          "data": {
            "text/plain": [
              "<Figure size 1440x432 with 0 Axes>"
            ]
          },
          "metadata": {}
        },
        {
          "output_type": "display_data",
          "data": {
            "image/png": "[encoded data removed]",
            "text/plain": [
              "<Figure size 432x288 with 1 Axes>"
            ]
          },
          "metadata": {
            "needs_background": "light"
          }
        }
      ]
    },
    {
      "cell_type": "code",
      "metadata": {
        "colab": {
          "base_uri": "https://localhost:8080/",
          "height": 321
        },
        "id": "vYaGQzY6XwO_",
        "outputId": "f6084b2e-2980-4e5d-d533-646e2c129f22"
      },
      "source": [
        "from statsmodels.tsa.stattools import pacf\n",
        "x_acf = pd.DataFrame(pacf(df.sale))\n",
        "x_acf.plot(kind='bar')\n",
        "plt.title(\"PACF\")"
      ],
      "execution_count": 145,
      "outputs": [
        {
          "output_type": "execute_result",
          "data": {
            "text/plain": [
              "Text(0.5, 1.0, 'PACF')"
            ]
          },
          "metadata": {},
          "execution_count": 145
        },
        {
          "output_type": "display_data",
          "data": {
            "image/png": "[encoded data removed]",
            "text/plain": [
              "<Figure size 432x288 with 1 Axes>"
            ]
          },
          "metadata": {
            "needs_background": "light"
          }
        }
      ]
    },
    {
      "cell_type": "code",
      "metadata": {
        "colab": {
          "base_uri": "https://localhost:8080/",
          "height": 321
        },
        "id": "cS4lH676Xkdp",
        "outputId": "95c3f9c3-f782-41ff-e5ec-bc278d780ae1"
      },
      "source": [
        "x_acf = pd.DataFrame(pacf(df.diff_1[1:]))\n",
        "x_acf.plot(kind='bar')\n",
        "plt.title(\"Diff PACF\")\n",
        "plt.legend(['difference'])"
      ],
      "execution_count": 146,
      "outputs": [
        {
          "output_type": "execute_result",
          "data": {
            "text/plain": [
              "<matplotlib.legend.Legend at 0x7f822dbaa510>"
            ]
          },
          "metadata": {},
          "execution_count": 146
        },
        {
          "output_type": "display_data",
          "data": {
            "image/png": "[encoded data removed]",
            "text/plain": [
              "<Figure size 432x288 with 1 Axes>"
            ]
          },
          "metadata": {
            "needs_background": "light"
          }
        }
      ]
    },
    {
      "cell_type": "markdown",
      "metadata": {
        "id": "zTGv8BNBf411"
      },
      "source": [
        "Initial time series and the differences seem to show no real autocorrelation"
      ]
    },
    {
      "cell_type": "markdown",
      "metadata": {
        "id": "h_CeMnUIf_rI"
      },
      "source": [
        "#Building ARIMA models"
      ]
    },
    {
      "cell_type": "code",
      "metadata": {
        "colab": {
          "base_uri": "https://localhost:8080/"
        },
        "id": "vdgGuYgDf_We",
        "outputId": "3263e46d-c6fd-4d8f-def1-7cf25d8adb0e"
      },
      "source": [
        "from statsmodels.tsa.arima_model import ARIMA\n",
        "model = ARIMA(df.sale, order=(0,1,0))\n",
        "model_fit_010 = model.fit()\n",
        "print(model_fit_010.summary())"
      ],
      "execution_count": 147,
      "outputs": [
        {
          "output_type": "stream",
          "name": "stdout",
          "text": [
            "                             ARIMA Model Results                              \n",
            "==============================================================================\n",
            "Dep. Variable:                 D.sale   No. Observations:                18248\n",
            "Model:                 ARIMA(0, 1, 0)   Log Likelihood             -308150.143\n",
            "Method:                           css   S.D. of innovations        5219182.950\n",
            "Date:                Tue, 16 Nov 2021   AIC                         616304.286\n",
            "Time:                        03:21:21   BIC                         616319.910\n",
            "Sample:                             1   HQIC                        616309.421\n",
            "                                                                              \n",
            "==============================================================================\n",
            "                 coef    std err          z      P>|z|      [0.025      0.975]\n",
            "------------------------------------------------------------------------------\n",
            "const        127.7022   3.86e+04      0.003      0.997   -7.56e+04    7.59e+04\n",
            "==============================================================================\n"
          ]
        },
        {
          "output_type": "stream",
          "name": "stderr",
          "text": [
            "/usr/local/lib/python3.7/dist-packages/statsmodels/tsa/base/tsa_model.py:219: ValueWarning: A date index has been provided, but it has no associated frequency information and so will be ignored when e.g. forecasting.\n",
            "  ' ignored when e.g. forecasting.', ValueWarning)\n",
            "/usr/local/lib/python3.7/dist-packages/statsmodels/tsa/base/tsa_model.py:219: ValueWarning: A date index has been provided, but it has no associated frequency information and so will be ignored when e.g. forecasting.\n",
            "  ' ignored when e.g. forecasting.', ValueWarning)\n"
          ]
        }
      ]
    },
    {
      "cell_type": "code",
      "metadata": {
        "colab": {
          "base_uri": "https://localhost:8080/"
        },
        "id": "jhgj8N1GuDj4",
        "outputId": "ffdda6b7-6cbf-4ce7-f467-524d5c8d64a2"
      },
      "source": [
        "from statsmodels.tsa.arima_model import ARIMA\n",
        "model = ARIMA(df.sale, order=(1,0,0))\n",
        "model_fit_100 = model.fit()\n",
        "print(model_fit_100.summary())"
      ],
      "execution_count": 148,
      "outputs": [
        {
          "output_type": "stream",
          "name": "stdout",
          "text": [
            "                              ARMA Model Results                              \n",
            "==============================================================================\n",
            "Dep. Variable:                   sale   No. Observations:                18249\n",
            "Model:                     ARMA(1, 0)   Log Likelihood             -301819.732\n",
            "Method:                       css-mle   S.D. of innovations        3685936.568\n",
            "Date:                Tue, 16 Nov 2021   AIC                         603645.464\n",
            "Time:                        03:21:35   BIC                         603668.899\n",
            "Sample:                             0   HQIC                        603653.165\n",
            "                                                                              \n",
            "==============================================================================\n",
            "                 coef    std err          z      P>|z|      [0.025      0.975]\n",
            "------------------------------------------------------------------------------\n",
            "const       9.279e+05   2.72e+04     34.092      0.000    8.75e+05    9.81e+05\n",
            "ar.L1.sale    -0.0024      0.007     -0.329      0.742      -0.017       0.012\n",
            "                                    Roots                                    \n",
            "=============================================================================\n",
            "                  Real          Imaginary           Modulus         Frequency\n",
            "-----------------------------------------------------------------------------\n",
            "AR.1         -410.9458           +0.0000j          410.9458            0.5000\n",
            "-----------------------------------------------------------------------------\n"
          ]
        },
        {
          "output_type": "stream",
          "name": "stderr",
          "text": [
            "/usr/local/lib/python3.7/dist-packages/statsmodels/tsa/base/tsa_model.py:219: ValueWarning: A date index has been provided, but it has no associated frequency information and so will be ignored when e.g. forecasting.\n",
            "  ' ignored when e.g. forecasting.', ValueWarning)\n"
          ]
        }
      ]
    },
    {
      "cell_type": "code",
      "metadata": {
        "colab": {
          "base_uri": "https://localhost:8080/"
        },
        "id": "dEnzKV1HuJcJ",
        "outputId": "5134fb86-a72c-4b31-af59-931c5d02fced"
      },
      "source": [
        "from statsmodels.tsa.arima_model import ARIMA\n",
        "model = ARIMA(df.sale, order=(0,0,1))\n",
        "model_fit_001 = model.fit()\n",
        "print(model_fit_001.summary())"
      ],
      "execution_count": 149,
      "outputs": [
        {
          "output_type": "stream",
          "name": "stderr",
          "text": [
            "/usr/local/lib/python3.7/dist-packages/statsmodels/tsa/base/tsa_model.py:219: ValueWarning: A date index has been provided, but it has no associated frequency information and so will be ignored when e.g. forecasting.\n",
            "  ' ignored when e.g. forecasting.', ValueWarning)\n"
          ]
        },
        {
          "output_type": "stream",
          "name": "stdout",
          "text": [
            "                              ARMA Model Results                              \n",
            "==============================================================================\n",
            "Dep. Variable:                   sale   No. Observations:                18249\n",
            "Model:                     ARMA(0, 1)   Log Likelihood             -301819.731\n",
            "Method:                       css-mle   S.D. of innovations        3685936.493\n",
            "Date:                Tue, 16 Nov 2021   AIC                         603645.463\n",
            "Time:                        03:21:48   BIC                         603668.898\n",
            "Sample:                             0   HQIC                        603653.164\n",
            "                                                                              \n",
            "==============================================================================\n",
            "                 coef    std err          z      P>|z|      [0.025      0.975]\n",
            "------------------------------------------------------------------------------\n",
            "const       9.279e+05   2.72e+04     34.093      0.000    8.75e+05    9.81e+05\n",
            "ma.L1.sale    -0.0025      0.007     -0.330      0.742      -0.017       0.012\n",
            "                                    Roots                                    \n",
            "=============================================================================\n",
            "                  Real          Imaginary           Modulus         Frequency\n",
            "-----------------------------------------------------------------------------\n",
            "MA.1          408.1249           +0.0000j          408.1249            0.0000\n",
            "-----------------------------------------------------------------------------\n"
          ]
        }
      ]
    },
    {
      "cell_type": "code",
      "metadata": {
        "colab": {
          "base_uri": "https://localhost:8080/"
        },
        "id": "Etfu6QTVuU3i",
        "outputId": "2c703bb1-d3bf-415d-83db-caf6395d31e7"
      },
      "source": [
        "from statsmodels.tsa.arima_model import ARIMA\n",
        "model = ARIMA(df.sale, order=(1,1,1))\n",
        "model_fit_111 = model.fit()\n",
        "print(model_fit_111.summary())"
      ],
      "execution_count": 154,
      "outputs": [
        {
          "output_type": "stream",
          "name": "stderr",
          "text": [
            "/usr/local/lib/python3.7/dist-packages/statsmodels/tsa/base/tsa_model.py:219: ValueWarning: A date index has been provided, but it has no associated frequency information and so will be ignored when e.g. forecasting.\n",
            "  ' ignored when e.g. forecasting.', ValueWarning)\n",
            "/usr/local/lib/python3.7/dist-packages/statsmodels/tsa/base/tsa_model.py:219: ValueWarning: A date index has been provided, but it has no associated frequency information and so will be ignored when e.g. forecasting.\n",
            "  ' ignored when e.g. forecasting.', ValueWarning)\n"
          ]
        },
        {
          "output_type": "stream",
          "name": "stdout",
          "text": [
            "                             ARIMA Model Results                              \n",
            "==============================================================================\n",
            "Dep. Variable:                 D.sale   No. Observations:                18248\n",
            "Model:                 ARIMA(1, 1, 1)   Log Likelihood             -301801.726\n",
            "Method:                       css-mle   S.D. of innovations        3684720.006\n",
            "Date:                Tue, 16 Nov 2021   AIC                         603611.452\n",
            "Time:                        03:36:12   BIC                         603642.699\n",
            "Sample:                             1   HQIC                        603621.721\n",
            "                                                                              \n",
            "================================================================================\n",
            "                   coef    std err          z      P>|z|      [0.025      0.975]\n",
            "--------------------------------------------------------------------------------\n",
            "const           19.3809      5.332      3.635      0.000       8.930      29.831\n",
            "ar.L1.D.sale    -0.0028      0.007     -0.382      0.703      -0.017       0.012\n",
            "ma.L1.D.sale    -1.0000      0.000  -5837.340      0.000      -1.000      -1.000\n",
            "                                    Roots                                    \n",
            "=============================================================================\n",
            "                  Real          Imaginary           Modulus         Frequency\n",
            "-----------------------------------------------------------------------------\n",
            "AR.1         -353.7194           +0.0000j          353.7194            0.5000\n",
            "MA.1            1.0000           +0.0000j            1.0000            0.0000\n",
            "-----------------------------------------------------------------------------\n"
          ]
        }
      ]
    },
    {
      "cell_type": "code",
      "metadata": {
        "colab": {
          "base_uri": "https://localhost:8080/"
        },
        "id": "Qt819B-0ufjg",
        "outputId": "00bd9723-ae88-4894-d6a6-b2964ad78487"
      },
      "source": [
        "from statsmodels.tsa.arima_model import ARIMA\n",
        "model = ARIMA(df.sale, order=(3,1,3))\n",
        "model_fit_111 = model.fit()\n",
        "print(model_fit_111.summary())"
      ],
      "execution_count": 151,
      "outputs": [
        {
          "output_type": "stream",
          "name": "stderr",
          "text": [
            "/usr/local/lib/python3.7/dist-packages/statsmodels/tsa/base/tsa_model.py:219: ValueWarning: A date index has been provided, but it has no associated frequency information and so will be ignored when e.g. forecasting.\n",
            "  ' ignored when e.g. forecasting.', ValueWarning)\n",
            "/usr/local/lib/python3.7/dist-packages/statsmodels/tsa/base/tsa_model.py:219: ValueWarning: A date index has been provided, but it has no associated frequency information and so will be ignored when e.g. forecasting.\n",
            "  ' ignored when e.g. forecasting.', ValueWarning)\n",
            "/usr/local/lib/python3.7/dist-packages/statsmodels/base/model.py:492: HessianInversionWarning: Inverting hessian failed, no bse or cov_params available\n",
            "  'available', HessianInversionWarning)\n"
          ]
        },
        {
          "output_type": "stream",
          "name": "stdout",
          "text": [
            "                             ARIMA Model Results                              \n",
            "==============================================================================\n",
            "Dep. Variable:                 D.sale   No. Observations:                18248\n",
            "Model:                 ARIMA(3, 1, 3)   Log Likelihood             -301808.414\n",
            "Method:                       css-mle   S.D. of innovations        3686041.652\n",
            "Date:                Tue, 16 Nov 2021   AIC                         603632.828\n",
            "Time:                        03:29:29   BIC                         603695.323\n",
            "Sample:                             1   HQIC                        603653.366\n",
            "                                                                              \n",
            "================================================================================\n",
            "                   coef    std err          z      P>|z|      [0.025      0.975]\n",
            "--------------------------------------------------------------------------------\n",
            "const          125.2241        nan        nan        nan         nan         nan\n",
            "ar.L1.D.sale    -1.6576      0.007   -238.472      0.000      -1.671      -1.644\n",
            "ar.L2.D.sale    -1.0046      0.012    -87.324      0.000      -1.027      -0.982\n",
            "ar.L3.D.sale    -0.0030      0.007     -0.436      0.663      -0.017       0.011\n",
            "ma.L1.D.sale     0.6568        nan        nan        nan         nan         nan\n",
            "ma.L2.D.sale    -0.6527        nan        nan        nan         nan         nan\n",
            "ma.L3.D.sale    -0.9985        nan        nan        nan         nan         nan\n",
            "                                    Roots                                    \n",
            "=============================================================================\n",
            "                  Real          Imaginary           Modulus         Frequency\n",
            "-----------------------------------------------------------------------------\n",
            "AR.1           -0.8276           -0.5616j            1.0002           -0.4051\n",
            "AR.2           -0.8276           +0.5616j            1.0002            0.4051\n",
            "AR.3         -329.7132           -0.0000j          329.7132           -0.5000\n",
            "MA.1            1.0015           -0.0000j            1.0015           -0.0000\n",
            "MA.2           -0.8276           -0.5613j            1.0000           -0.4052\n",
            "MA.3           -0.8276           +0.5613j            1.0000            0.4052\n",
            "-----------------------------------------------------------------------------\n"
          ]
        },
        {
          "output_type": "stream",
          "name": "stderr",
          "text": [
            "/usr/local/lib/python3.7/dist-packages/statsmodels/tsa/arima_model.py:1441: RuntimeWarning: invalid value encountered in sqrt\n",
            "  return np.sqrt(np.diag(-inv(hess)))\n"
          ]
        }
      ]
    },
    {
      "cell_type": "markdown",
      "metadata": {
        "id": "raWnUJ8qyahZ"
      },
      "source": [
        "ARIMA(1,1,1), the constant is 19.3809 . Then, each day is approximately equal to -353.7194 time the previous day's value; this is explained through the AR(1) coefficient being -353.7194. The moving average term is 1 ; this means that the error present in the model, each day is approximately equal to the previous day's error. "
      ]
    }
  ]
}